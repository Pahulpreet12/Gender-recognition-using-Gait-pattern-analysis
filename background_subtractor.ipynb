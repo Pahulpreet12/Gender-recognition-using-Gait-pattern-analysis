{
 "cells": [
  {
   "cell_type": "code",
   "execution_count": 1,
   "metadata": {},
   "outputs": [
    {
     "ename": "error",
     "evalue": "OpenCV(4.5.5) D:\\a\\opencv-python\\opencv-python\\opencv\\modules\\imgproc\\src\\median_blur.dispatch.cpp:283: error: (-215:Assertion failed) !_src0.empty() in function 'cv::medianBlur'\n",
     "output_type": "error",
     "traceback": [
      "\u001b[1;31m---------------------------------------------------------------------------\u001b[0m",
      "\u001b[1;31merror\u001b[0m                                     Traceback (most recent call last)",
      "\u001b[1;32m<ipython-input-1-3a4451ab321e>\u001b[0m in \u001b[0;36m<module>\u001b[1;34m\u001b[0m\n\u001b[0;32m     16\u001b[0m     \u001b[0mfgmask1\u001b[0m \u001b[1;33m=\u001b[0m \u001b[0mfgbg1\u001b[0m\u001b[1;33m.\u001b[0m\u001b[0mapply\u001b[0m\u001b[1;33m(\u001b[0m\u001b[0mimg\u001b[0m\u001b[1;33m)\u001b[0m\u001b[1;33m;\u001b[0m\u001b[1;33m\u001b[0m\u001b[1;33m\u001b[0m\u001b[0m\n\u001b[0;32m     17\u001b[0m     \u001b[0mfgmask2\u001b[0m \u001b[1;33m=\u001b[0m \u001b[0mfgbg2\u001b[0m\u001b[1;33m.\u001b[0m\u001b[0mapply\u001b[0m\u001b[1;33m(\u001b[0m\u001b[0mimg\u001b[0m\u001b[1;33m)\u001b[0m\u001b[1;33m;\u001b[0m\u001b[1;33m\u001b[0m\u001b[1;33m\u001b[0m\u001b[0m\n\u001b[1;32m---> 18\u001b[1;33m     \u001b[0mfgmask3\u001b[0m \u001b[1;33m=\u001b[0m \u001b[0mfgbg3\u001b[0m\u001b[1;33m.\u001b[0m\u001b[0mapply\u001b[0m\u001b[1;33m(\u001b[0m\u001b[0mimg\u001b[0m\u001b[1;33m)\u001b[0m\u001b[1;33m;\u001b[0m\u001b[1;33m\u001b[0m\u001b[1;33m\u001b[0m\u001b[0m\n\u001b[0m\u001b[0;32m     19\u001b[0m \u001b[1;33m\u001b[0m\u001b[0m\n\u001b[0;32m     20\u001b[0m     \u001b[0mcv2\u001b[0m\u001b[1;33m.\u001b[0m\u001b[0mimshow\u001b[0m\u001b[1;33m(\u001b[0m\u001b[1;34m'Original'\u001b[0m\u001b[1;33m,\u001b[0m \u001b[0mimg\u001b[0m\u001b[1;33m)\u001b[0m\u001b[1;33m;\u001b[0m\u001b[1;33m\u001b[0m\u001b[1;33m\u001b[0m\u001b[0m\n",
      "\u001b[1;31merror\u001b[0m: OpenCV(4.5.5) D:\\a\\opencv-python\\opencv-python\\opencv\\modules\\imgproc\\src\\median_blur.dispatch.cpp:283: error: (-215:Assertion failed) !_src0.empty() in function 'cv::medianBlur'\n"
     ]
    }
   ],
   "source": [
    "#I found out the reason. Probably, the tutorial you are following was published before OpenCV 4 was released. OpenCV 3 changed cv2.findContours(...) to return image, contours, hierarchy, while OpenCV 2's cv2.findContours(...) and OpenCV 4's cv2.findContours(...) return contours, hierarchy. Therefore, before OpenCV 4, it was correct to say that if you use OpenCV 2 it should be contours[0] else contours[1]. If you still want to have this \"compatibility\", you can change to:\n",
    "\n",
    "#contours = contours[1] if imutils.is_cv3() else contours[0]\n",
    "\n",
    "\n",
    "\n",
    "\n",
    "import numpy as np\n",
    "import cv2\n",
    "  \n",
    "# creating object\n",
    "fgbg1 = cv2.bgsegm.createBackgroundSubtractorMOG();   \n",
    "fgbg2 = cv2.createBackgroundSubtractorMOG2();\n",
    "fgbg3 = cv2.bgsegm.createBackgroundSubtractorGMG();\n",
    "  \n",
    "# capture frames from a camera \n",
    "cap = cv2.VideoCapture(0);\n",
    "while(1):\n",
    "    # read frames\n",
    "    ret, img = cap.read();\n",
    "      \n",
    "    # apply mask for background subtraction\n",
    "    fgmask1 = fgbg1.apply(img);\n",
    "    fgmask2 = fgbg2.apply(img);\n",
    "    fgmask3 = fgbg3.apply(img);\n",
    "      \n",
    "    cv2.imshow('Original', img);\n",
    "    cv2.imshow('MOG', fgmask1);\n",
    "    cv2.imshow('MOG2', fgmask2);\n",
    "    cv2.imshow('GMG', fgmask3);\n",
    "    k = cv2.waitKey(30) & 0xff;\n",
    "    if k == 27:\n",
    "        break;\n",
    "\n",
    "cap.release();\n",
    "cv2.destroyAllWindows();"
   ]
  }
 ],
 "metadata": {
  "kernelspec": {
   "display_name": "Python 3",
   "language": "python",
   "name": "python3"
  },
  "language_info": {
   "codemirror_mode": {
    "name": "ipython",
    "version": 3
   },
   "file_extension": ".py",
   "mimetype": "text/x-python",
   "name": "python",
   "nbconvert_exporter": "python",
   "pygments_lexer": "ipython3",
   "version": "3.8.5"
  }
 },
 "nbformat": 4,
 "nbformat_minor": 4
}
